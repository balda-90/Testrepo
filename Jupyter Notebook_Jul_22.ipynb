{
 "cells": [
  {
   "cell_type": "markdown",
   "id": "fa834005-3300-4b8a-8707-af9823617dab",
   "metadata": {},
   "source": [
    "# My Jupyter Notebook on IBM Watson Studio"
   ]
  },
  {
   "cell_type": "markdown",
   "id": "0524617e-5888-44dd-a192-280d691c3f16",
   "metadata": {},
   "source": [
    "**Baldazzi Matteo**\\\n",
    "Program manager"
   ]
  },
  {
   "cell_type": "markdown",
   "id": "2deb770c-d3b1-4b24-86a7-aa73326880f7",
   "metadata": {},
   "source": [
    "*I am interested in data science because can generate new ideas, creating value from existing data*"
   ]
  },
  {
   "cell_type": "markdown",
   "id": "8dd20a3a-e6bf-4895-a833-b61bb532eff1",
   "metadata": {},
   "source": [
    "### Code Cell: sum in Jupyter Notebook ###"
   ]
  },
  {
   "cell_type": "code",
   "execution_count": 2,
   "id": "7d8d4821-1ac1-4e99-9203-f38f75abf470",
   "metadata": {},
   "outputs": [
    {
     "name": "stdout",
     "output_type": "stream",
     "text": [
      "2\n"
     ]
    }
   ],
   "source": [
    "print (1+1)"
   ]
  },
  {
   "cell_type": "markdown",
   "id": "bb9a1e0f-3c8b-4398-92c0-2dd632e2102e",
   "metadata": {},
   "source": [
    "This is an horizontal rule:\n",
    "***\n",
    "This is a bullet list: \n",
    "* step1 \n",
    "* step2 \n",
    "\n",
    "This is a numbered list: \n",
    "1. step1 \n",
    "2. step2 \n",
    "\n",
    "This is a table:\n",
    "| Field 1 | Field 2 |\n",
    "| --- | --- |\n",
    "| Matteo | Baldazzi |"
   ]
  },
  {
   "cell_type": "code",
   "execution_count": null,
   "id": "7305667b-b85f-4d31-bbc5-3f288ac385c7",
   "metadata": {},
   "outputs": [],
   "source": []
  }
 ],
 "metadata": {
  "kernelspec": {
   "display_name": "Python",
   "language": "python",
   "name": "conda-env-python-py"
  },
  "language_info": {
   "codemirror_mode": {
    "name": "ipython",
    "version": 3
   },
   "file_extension": ".py",
   "mimetype": "text/x-python",
   "name": "python",
   "nbconvert_exporter": "python",
   "pygments_lexer": "ipython3",
   "version": "3.7.12"
  }
 },
 "nbformat": 4,
 "nbformat_minor": 5
}
